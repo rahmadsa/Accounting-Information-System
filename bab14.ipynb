## Accounting-Information-System
### Pembuatan Model Aplikasi Sistem Informasi Akuntansi Sederhana IV
Dibagian ke-4 dan merupakan tahap akhir dalam membuat pembukuan kas sederhana.

### Material Move To Classroom
https://classroom.google.com/u/1/w/OTgzMDgwODYzODBa/tc/OTgzMDgwODY0MzNa
