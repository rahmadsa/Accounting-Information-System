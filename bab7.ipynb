{
 "cells": [
  {
   "cell_type": "markdown",
   "metadata": {},
   "source": []
  },
  {
   "cell_type": "markdown",
   "metadata": {},
   "source": [
    "## 7. Siklus Dalam Proses Akuntansi\n",
    "\n",
    "\n",
    "\n",
    "### 7.1 Aktivitas dalam Sistem Pengolahan Transaksi \n",
    "Pengolahan transaksi dapat berupa rangkaian proses yang dimulai dari pengumpulan, pengiriman dan pemasukan data untuk disimpan atau diproses sehingga menghasilkan output berupa informasi yang berguna bagi pemakai. \n",
    "\n",
    "Pengumpulan, pengiriman, dan pemasukan data- Semua data bernilai ekonomi yang berasal dari aktivitas operasi organisasi dan berpengaruh terhadap posisi keuangan organisasi perusahaan (transaksi) harus dikumpulkan, termasuk didalamnya data yang berasal dari aktivitas yang berkaitan dengan bahan baku, proses produksi, penjualan, distribusi barang dan jasa.        \n",
    "\n",
    "Aktivitas atau transaksi tersebut meliputi sejumlah aktivitas or- ganisasi perusahaan yang berkaitan dengan pihak eksternal atau- pun aktivitas yang terjadi antar bagian yang ada di dalam organisasi.Aktivitas atau transaksi yang terjadi diantaranya meliputi penjualan, pengurangan persediaan, pengiriman barang, penerimaan kas, pembelian, penerimaan persediaan, pembayaran,kon- versi dari tenaga kerja dan bahan baku ke barang jadi atau jasa.     \n",
    "\n",
    "Data transaksi yang diperoleh karena transaksi yang terjadi dikumpulkan atau ditampung ke dalam suatu formulir (formulir bila telah di isi berubah menjadi dokumen), data tersebut selanjutnya dikirim ke bagian pemasukan data untuk dimasukan melalui terminal komputer ke pusat komputer (server) yang selanjutnya disimpan atau diolah lebih lanjut.        \n",
    "\n",
    "Data transaksi dapat juga langsung dikumpulkan melalui terminal komputer biasa atau terminal internet (e-commerce) untuk selanjutnya dari terminal tersebut dikirim ke komputer pusat untuk disimpan atau diolah lebih lanjut.         \n",
    "\n",
    "Bagi suatu organisasi perusahaan cara mana yang akan digu- nakan sangat tergantung kepada kepentingan perusahaan terse- but, situasi kondisi dan sejauh mana organisasi perusahaan mam- pu menggunakan teknologi informasi untuk SPT- nya. Pemilihan salah satu cara tidak menjamin baiknya tidaknya SPT bekerja. Baik tidaknya kinerja SPT sangat tergantung kepada sejauh mana SPT dapat memenuhi kebutuhan peng-gunanya yaitu organisasi perusahaan dan pihak luar yang berkepentingan.          \n",
    "\n",
    "Keharmonisan antara informasi yang dihasilkan oleh SPT ter- hadap kepentingan pihak intern atau ekstern organisasi akan me- nentukan kinerja dari SPT tersebut apakah itu menggunakan tek- nologi informasi yang canggih atau tidak, bahkan mungkin seca- ra manual pun keharmonisan itu dapat diperoleh\n",
    "\n",
    "\n",
    "### 7.2 Siklus Akuntansi  \n",
    "\n",
    "Siklus pengolahan transaksi merupakan prosedur atau urut-urutan subsistem pengolahan transaksi untuk menunjang siklus transaksi dalam aktivitas bisnis perusahaan atau siklus aktivitas bisnis perusahaan, sehingga anda dapat mengatakan bahwa siklus akti- vitas bisnis perusahaan direpresentasikan oleh siklus/sistem pengolahan transaksi. Untuk lebih lanjut tentang siklus transaksi akuntansi bisa kita lihat dalam video berikut.       \n",
    "<a href=\"http://www.youtube.com/watch?feature=player_embedded&v=4Yyzv1WfWYQ\n",
    "\" target=\"_blank\"><img src=\"http://img.youtube.com/vi/4Yyzv1WfWYQ/0.jpg\" \n",
    "alt=\"Exeception Handling\" width=\"480\" height=\"360\" border=\"10\" /></a>\n",
    "\n",
    "https://www.youtube.com/watch?v=4Yyzv1WfWYQ\n",
    "\n",
    "### Tugas VI\n",
    "\n",
    "**Soal A** [Jika Digit Terakhir NIM anda adalah bilangan ganjil atau nol(0)]\n",
    "\n",
    "Jawablah dengan menjelaskan pertanyaan - pertanyaan berikut:\n",
    "\n",
    "Definisikanlah tahapan - tahapan proses dalam pembayaran kuliah sampai dengan pelaporan sampai dengan pelaporan ke bagian akademik di lingkungan kampus anda.  \n",
    " \n",
    "**Soal B**  [Jika Digit Terakhir NIM anda adalah bilangan genap]\n",
    "\n",
    "Jawablah dengan menjelaskan pertanyaan - pertanyaan berikut:\n",
    "\n",
    "Definisikanlah tahapan - tahapan proses KRS di lingkungan kampus anda dari proses bimbingan sampai dengan ke proses pengesahan.      \n",
    "\n",
    "### Kembali ke [Daftar Isi](./README.md)"
   ]
  },
  {
   "cell_type": "code",
   "execution_count": null,
   "metadata": {},
   "outputs": [],
   "source": []
  }
 ],
 "metadata": {
  "kernelspec": {
   "display_name": "Python 3",
   "language": "python",
   "name": "python3"
  },
  "language_info": {
   "codemirror_mode": {
    "name": "ipython",
    "version": 3
   },
   "file_extension": ".py",
   "mimetype": "text/x-python",
   "name": "python",
   "nbconvert_exporter": "python",
   "pygments_lexer": "ipython3",
   "version": "3.7.1"
  }
 },
 "nbformat": 4,
 "nbformat_minor": 2
}
