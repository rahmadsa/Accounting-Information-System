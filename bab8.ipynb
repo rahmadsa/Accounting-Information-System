## Accounting-Information-System
### Siklus Dan Analisa Proses Akuntansi I
Dalam sebuah Sistem Informasi Akuntansi terdapat berbagai siklus yang harus dianalisis untuk menhasilkan sistem yang efektif.
### Material Move To Classroom
https://classroom.google.com/u/1/w/OTgzMDgwODYzODBa/tc/OTgzMDgwODY0Nzda

