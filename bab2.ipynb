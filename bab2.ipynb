{
 "cells": [
  {
   "cell_type": "markdown",
   "metadata": {},
   "source": []
  },
  {
   "cell_type": "markdown",
   "metadata": {},
   "source": [
    "## 2. Pengantar Akuntansi Dan Bisnis\n",
    "\n",
    "### 2.1 Peristiwa Ekonomi\n",
    "\n",
    "Saat ini kita hidup dalam suatu masyarakat yang semakin komplek, lebih komplek dari pada sepuluh tahun yang lalu dan akan semakin komplek dalam sepuluh tahun kedepan.Seperti kita ketahui di masyarakat terdapat berbagai jenis organisasi yang saling terkait dalam aktivitas yang berbeda dengan tujuan yang berbeda pula. Ada yang ingin mendapatkan laba seperti perusahaan dagang, industri, jasa, lembaga keuangan dll dan ada pula organisasi yang tidak berorientasi untuk mendapatkan laba seperti jawatan sosial, organisasi politik, departemen perijinan dan lain-lain.Semua jenis organisasi tersebut harus mencatat dan melaporkan semua aktivitasnya yang diperlukan untuk pengambilan keputusan.\n",
    "\n",
    "Sistem informasi akuntansi dirancang tidak hanya untuk mendokumentasikan (mencatat, mengklasifikasikan, meringkas dan melaporkan) hasil aktivitas atau peristiwa ekonomi dengan berbagai organisasi yang terkait untuk kepentingan internal dan eksternal organisasi akan tetapi juga berfungsi sebagai pedoman serta pengen- dali terhadap bagaimana pendokumentasian tersebut harus dilakukan oleh suatu organisasi, baik itu organisasi berorientasi laba atau bukan.\n",
    "\n",
    "Bagaimana anda dapat mulai memahami struktur dari berbagai aktivitas ekonomi dan sistem informasi akuntansinya? Bagaima- na perancang sistem informasi akuntansi yang mampu mengantisi- pasi berbagai transaksi/kejadian ekonomi yang mungkin terjadi?.         \n",
    "Memahami aktivitas dasar atau peristiwa ekonomi dan aktivitas lainnya yang mungkin timbul sebagai hasil interaksi perusahaan dengan pihak lain yang ada di lingkungan perusahaan tersebut serta memahami konsep sistem informasi akuntansi secara terstruktur sangat membantu dalam membangun sistem informasi akuntansi yang akan dibahas pada bagian akhir buku ini.         \n",
    "\n",
    "Memahami berbagai peristiwa ekonomi yang terjadi sebagai akibat interaksi perusahaan dengan lingkungannya dapat dilakukan dengan mempelajari berbagai aktivitas yang dilakukan oleh organisasi perusahaan tersebut sehari-hari. Sedangkan untuk memahami konsep sistem informasi akuntansi secara terstruktur terlebih dahulu harus dipahami konsep tentang sistem, informasi, sistem informasi dan akuntansi. Kosep sistem, informasi dan sistem informa- si telah dibahas pada bab-bab sebelumnya, Berikut ini akan dibahas mengenai akuntansi sebagai konsep untuk memahami sistem informasi akuntansi.          \n",
    "\n",
    "### 2.2 Akuntansi\n",
    "\n",
    "*American Accounting Association* (AAA)(1966), Wilkinson (2000), Warren dan Fess(1996), mendefinisikan akuntansi sebagai \n",
    "**sistem yang menghasilkan informasi atau laporan untuk berbagai kepentingan baik individu atau kelompok tentang aktivitas/operasi/peristiwa ekonomi atau keuangan suatu organisasi** \n",
    "\n",
    "Semua kejadian atau peristiwa ekonomi yang diakibatkan oleh aktivitas/operasi suatu organisasi perusahaan yang berpengaruh terhadap posisi keuangan organisasi perusahaan tersebut disebut sebagai transaksi (transaksi bisnis) bagi organisasi pusahaan tersebut. Atau lebih dikenal sebagai transaksi akuntansi.         \n",
    "Semua kejadian ekonomi yang tidak berpengaruh terhadap posisi keuangan organisasi perusahaan bukan merupakan transak- si akuntansi bagi organisasi perusahaan tersebut.          \n",
    "Jadi transaksi bisnis atau akuntansi pada dasarnya merupa- kan penyeleksian semua aktivitas ekonomi kedalam aktivitas yang hanya berkaitan dengan suatu organisasi perusahaan, aktivitas ekonomi lainnya yang tidak berkaitan dikesampingkan. Transaksi bisnis tersebut kemudian dimasukan kedalam suatu formulir (kertas atau layar komputer) sehingga menjadi dokumen atau data un- tuk selanjutnya diolah menjadi informasi atau informasi akuntansi.             \n",
    "\n",
    "### 2.3 Karakteristik Bisnis dan Profesi akuntansi\n",
    "\n",
    "Perusahaan *(business)* adalah suatu organisasi dimana sumber daya (input), seperti bahan baku, tenaga kerja diproses untuk menghasilkan barang atau jasa untuk pelanggan. \n",
    "\n",
    "Jika manajemen perusahaan mencatat dan melaporkan data keuangan seperti yang diinginkannya, maka perbandingan antara perusahaan sati dengan lainya akaun sulit dilalakuan, maka diperlukan perinsip - prinsip akuntansi yang menjadi standar dan yang berlaku umum.  \n",
    "\n",
    "Untuk lebih lanjut tentang Karakteristik Bisnis dan Profesi akuntansi anda bisa lihat dalam video berikut.   \n",
    "\n",
    "<a href=\"http://www.youtube.com/watch?feature=player_embedded&v=TgH65eOmnv4\n",
    "\" target=\"_blank\"><img src=\"http://img.youtube.com/vi/TgH65eOmnv4/0.jpg\" \n",
    "alt=\"Exeception Handling\" width=\"480\" height=\"360\" border=\"10\" /></a>\n",
    "\n",
    "https://www.youtube.com/watch?v=TgH65eOmnv4\n",
    "\n",
    "\n",
    "### Tugas I\n",
    "\n",
    "1. Uraikanlah peranan akuntansi dalam perusahaan?\n",
    "2. Jelaskan tentang pentingnya etika bisnis?\n",
    "3. Jelaskan tentang perananan penting akuntansi dalam perusahaan?\n",
    "\n",
    "### Kembali ke [Daftar Isi](./README.md)"
   ]
  },
  {
   "cell_type": "code",
   "execution_count": null,
   "metadata": {},
   "outputs": [],
   "source": []
  }
 ],
 "metadata": {
  "kernelspec": {
   "display_name": "Python 3",
   "language": "python",
   "name": "python3"
  },
  "language_info": {
   "codemirror_mode": {
    "name": "ipython",
    "version": 3
   },
   "file_extension": ".py",
   "mimetype": "text/x-python",
   "name": "python",
   "nbconvert_exporter": "python",
   "pygments_lexer": "ipython3",
   "version": "3.7.1"
  }
 },
 "nbformat": 4,
 "nbformat_minor": 2
}
