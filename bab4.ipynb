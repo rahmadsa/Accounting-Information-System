{
 "cells": [
  {
   "cell_type": "markdown",
   "metadata": {},
   "source": []
  },
  {
   "cell_type": "markdown",
   "metadata": {},
   "source": [
    "## 4. Analisa Transaksi Akuntansi\n",
    "\n",
    "  \n",
    "### 4.1 Analisa Dan Mengikhtisarkan Transaksi  \n",
    "\n",
    "Setiap Transaksi mempengaruhi paling tidak dua akun.  Untuk lebih lanjut tentang analisa transaksi bisa kita lihat dalam video berikut.       \n",
    "<a href=\"http://www.youtube.com/watch?feature=player_embedded&v=H0jLfDev3Io\n",
    "\" target=\"_blank\"><img src=\"http://img.youtube.com/vi/H0jLfDev3Io/0.jpg\" \n",
    "alt=\"Exeception Handling\" width=\"480\" height=\"360\" border=\"10\" /></a>\n",
    "\n",
    "https://www.youtube.com/watch?v=H0jLfDev3Io\n",
    "\n",
    "### Tugas III\n",
    "\n",
    "Buatlah Jurnal Umum dari transaksi - transaksi yang ada dalam **Tugas II**\n",
    "\n",
    "### Kembali ke [Daftar Isi](./README.md)"
   ]
  },
  {
   "cell_type": "code",
   "execution_count": null,
   "metadata": {},
   "outputs": [],
   "source": []
  }
 ],
 "metadata": {
  "kernelspec": {
   "display_name": "Python 3",
   "language": "python",
   "name": "python3"
  },
  "language_info": {
   "codemirror_mode": {
    "name": "ipython",
    "version": 3
   },
   "file_extension": ".py",
   "mimetype": "text/x-python",
   "name": "python",
   "nbconvert_exporter": "python",
   "pygments_lexer": "ipython3",
   "version": "3.7.1"
  }
 },
 "nbformat": 4,
 "nbformat_minor": 2
}
