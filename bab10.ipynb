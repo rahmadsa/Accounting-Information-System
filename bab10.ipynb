
## Accounting-Information-System
### Tahapan, Metode dan Teknik Dalam Membangun Sistem Informasi Akuntansi
Pada bagian ini mebahas beberapa tahapan, Metode dan Teknik dalam Membangun Sistem Informasi Akuntansi.  

### Material Move To Classroom
https://classroom.google.com/u/1/w/OTgzMDgwODYzODBa/tc/OTgzMDgwODY0NjBa
