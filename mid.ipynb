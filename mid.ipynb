{
 "cells": [
  {
   "cell_type": "markdown",
   "metadata": {},
   "source": [
    "### SOAL UTS\n",
    "\n",
    "Kerjakan salah satu dari dua soal berikut (Soal A atau B) sesuai dengan digit terakhir NIM anda.\n"
   ]
  },
  {
   "cell_type": "markdown",
   "metadata": {},
   "source": [
    "#### Jika Digit terakhir NIM anda adalah ganjil atau nol(0) kerjakanlan Soal A berikut ini  \n",
    "**Soal A** \n",
    " 1. Jelaskan mengapa dikatakan sistem informasi akuntansi sebagai bagian terbesar dari sistem informasi manajemen. \n",
    " 2. Jelaskan bagaimana hubungan sistem informasi akuntansi dengan sistem informasi manajemen. \n",
    " 3. Jelaskan dan berikan gambaran bagaimana komponenkomponen sistem informasi akuntansi atau sistem/siklus pengolahan transaki berintegrasi membentuk sistem informasi akuntansi. \n",
    " 4. Apakah seorang programer karena pengalamannya sudah puluhan tahun dapat menjadi analis sistem?  \n",
    " 5. Bagaimana analis sistem memecahkan masalah gap komunikasi antara dirinya sebagai pengembang sistem dan manajemen perusahaan terutama bagian akuntansi\n",
    " 6. Buatlah flow map dari *Tugas 5*"
   ]
  },
  {
   "cell_type": "markdown",
   "metadata": {},
   "source": [
    "#### Jika Digit terakhir NIM anda adalah genap kerjakanlan Soal B berikut ini  \n",
    "**Soal B**\n",
    " 1. Jelaskan apakah masalah yang dihadapi oleh sistem informasi akuntansi masalah terstruktur atau bukan?  \n",
    " 2. Apakah sistem informasi akuntansi bisa dibangun tanpa memahami konsep dan praktik akuntansi yang berlaku dan bagaimana faktor budaya dapat mempengaruhi penerapan sistem informasi akuntansi di Indonesia\n",
    " 3. Sebutkan pengetahuan dan kemampuan yang harus dimiliki oleh seorang analis sistem? \n",
    " 4. Apakah seorang analis sistem yang tidak memiliki pengeta- huan dibidang akuntansi dapat menganalis masalah dalam sistem informasi akuntansi? Berikan penjelasan. \n",
    " 5. Jelaskanlah apakah seorang programer yang tidak memiliki pendidikan formal dapat menjadi analis sistem ?\n",
    " 6. Buatlah flow map dari *Tugas 5* "
   ]
  },
  {
   "cell_type": "markdown",
   "metadata": {},
   "source": [
    "* **Jawaban** dalam bentuk file pdf dikirim ke nicesanuri@gmail.com dengan subject : **UTS_SIA_NIM**.\n",
    "* Sertakan pula Tugas - tugas dari tiap bab dalam file **Jawaban** \n",
    "* Paling lambat pengiriman tanggal 8 April 2020 Jam 7.00 Wib"
   ]
  },
  {
   "cell_type": "code",
   "execution_count": null,
   "metadata": {},
   "outputs": [],
   "source": []
  }
 ],
 "metadata": {
  "kernelspec": {
   "display_name": "Python 3",
   "language": "python",
   "name": "python3"
  },
  "language_info": {
   "codemirror_mode": {
    "name": "ipython",
    "version": 3
   },
   "file_extension": ".py",
   "mimetype": "text/x-python",
   "name": "python",
   "nbconvert_exporter": "python",
   "pygments_lexer": "ipython3",
   "version": "3.7.1"
  }
 },
 "nbformat": 4,
 "nbformat_minor": 2
}
