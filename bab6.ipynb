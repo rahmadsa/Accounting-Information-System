{
 "cells": [
  {
   "cell_type": "code",
   "execution_count": null,
   "metadata": {},
   "outputs": [],
   "source": []
  },
  {
   "cell_type": "markdown",
   "metadata": {},
   "source": [
    "## 6. Analisa dan Perancangan Sistem Informasi Akuntansi \n",
    "\n",
    "\n",
    "### 6.1\tPendahuluan\n",
    "\n",
    "Seperti kita ketahui penggunaan komputer dalam aktivitas bisnis yang ditunjang dengan tersedianya berbagai software telah menjanjikan bahwa berbagai transaksi akuntansi dalam bisnis dan penyediaan informasi akuntansi dapat dilakukan lebih mudah, efektif dan efisien. Pada awalnya para pelaku bisnis hanya mengandalkan pemecahan masalah dengan bantuan teknologi komputer semata. Saat itu teknisi dan programer menjadi andalan bagi para pelaku bisnis untuk membangun suatu sistem informasi akuntansi yang mampu memecahkan masalah-masalah keuangan mereka. Tetapi disisi lain, para pelaku bisnis ini seringkali kurang memahami kelebihan dan keterbatasan teknologi komputer, sehingga pada saat penggunaannya mereka sering mengalami kesulitan. Sementara itu teknisi dan programer sebagai pembuat program sering kurang memahami masalah akuntansi dalam bisnis, yang akhirnya menimbulkan kesenjangan komunikasi antara para bagian akuntansi dan para pelaku bisnis lainnya sebagai pengguna komputer dan para teknisi/programer sebagai pembuat software aplikasi sistem informasi akuntansi. \n",
    "\n",
    "Kesenjangan komunikasi antara bagian akuntansi dan para pelaku bisnis sebagai pengguna komputer dengan pembuat program aplikasi sistem informasi akuntansi  dapat dijembatani dengan adanya seorang analis sistem informasi/sistem informasi akuntansi. Seorang analis sistem informasi akuntansi dapat membantu meningkatkan kemampuan pemrosesan suatu sistem informasi akuntansi berbasis komputer. Analis sistem informasi akuntansi  juga dapat membantu mengidentifikasi masalah-masalah yang dihadapi dalam penggunaan komputer untuk aplikasi sistem informasi akuntansi dalam menunjang kegiatan bisnis. Saat ini para analis sistem informasi akuntansi tidak hanya sebagai perantara yang menjembatani masalah yang dihadapi oleh bagian akuntansi dan para pengguna komputer dengan teknisi/ programernya. Dengan metode yang akan diuraikan pada bab ini, seorang analis sistem informasi akuntansi akan bekerja dengan lebih produktif lagi. \n",
    " \n",
    "Untuk lebih lanjut tentang Analisa dan Perancangan Sistem Informasi Akuntansi bisa kita lihat pada sumber bacaan berikut:[Analisa dan Perancangan Sistem Informasi Akuntansi](./Analisa-Sistem-Akuntansi.pdf)\n",
    "\n",
    "### Tugas V\n",
    "\n",
    "**Soal A** [Jika Digit Terakhir NIM anda adalah bilangan ganjil atau nol(0)]\n",
    "\n",
    "Jawablah dengan menjelaskan pertanyaan - pertanyaan berikut.\n",
    "\n",
    "1. Siapakah dan apa tugas analis sistem?  \n",
    "2. Apa beda tanggung jawab analis sistem dengan programer? \n",
    "3. Jalaskan tentang System Development Life Cycle (SDLC) dan sebutkan tahapannya\n",
    " \n",
    "**Soal B**  [Jika Digit Terakhir NIM anda adalah bilangan genap]\n",
    "\n",
    "Jawablah dengan menjelaskan pertanyaan - pertanyaan berikut.\n",
    "\n",
    "1. Sebutkan tiga tahap pemecahan masalah? \n",
    "2. Sebutkan tiga kondisi yang mendorong dikembangkannya sistem informasi akuntansi? \n",
    "3. Sebutkan kerangka kerja yang menjadi dasar pemecahan masalah analis sistem?  \n",
    "\n",
    "### Kembali ke [Daftar Isi](./README.md)"
   ]
  },
  {
   "cell_type": "code",
   "execution_count": null,
   "metadata": {},
   "outputs": [],
   "source": []
  }
 ],
 "metadata": {
  "kernelspec": {
   "display_name": "Python 3",
   "language": "python",
   "name": "python3"
  },
  "language_info": {
   "codemirror_mode": {
    "name": "ipython",
    "version": 3
   },
   "file_extension": ".py",
   "mimetype": "text/x-python",
   "name": "python",
   "nbconvert_exporter": "python",
   "pygments_lexer": "ipython3",
   "version": "3.7.1"
  }
 },
 "nbformat": 4,
 "nbformat_minor": 2
}

