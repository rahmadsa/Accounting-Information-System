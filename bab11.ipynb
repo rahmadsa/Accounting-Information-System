## Accounting-Information-System
### Pembuatan Model Aplikasi Sistem Informasi Akuntansi Sederhana I
Tujuan Aplikasi ini diharapkan dapat mempermudah si pembuku atau bookkeeper dalam melaksanakan pekerjaan pencatatan atau pekerjaan pembukuannya. Dengan aplikasi ini si pembuku tidak perlu lagi mencatat dan mengelompokkan transaksinya secara manual, dengan aplikasi ini si pembuku hanya perlu menginput transaksi berdasarkan kode akun maka transaksi akan secara otomatis terkelompokkan dan pada akhir periode pembukuan bisa memberikan laporan yang benar mengenai gambaran penerimaan dan pengeluaran kas berdasarkan periode bulan, tahun atau periode yang diinginkan atau bisa juga menampilkan laporan kas berdasarkan kode akunnya masing masing

### Material Move To Classroom
https://classroom.google.com/u/1/w/OTgzMDgwODYzODBa/tc/OTgzMDgwODY0NTVa
