{
 "cells": [
  {
   "cell_type": "markdown",
   "metadata": {},
   "source": []
  },
  {
   "cell_type": "markdown",
   "metadata": {},
   "source": [
    "## 5. Sistem Informasi Akuntansi Dan Pengolahan Transaksi Akuntansi\n",
    "\n",
    "\n",
    "### 5.1 Pengolahan Transaksi Akuntansi  \n",
    "\n",
    "Sistem pengolahan transaksi memproses data yang berasal dari kejadian atau peristiwa ekonomi sebagai akibat dari operasi atau aktivitas internal perusahaan dan sebagai akibat dari aktivitas perusahaan dengan pihak luar menjadi informasi keuangan/informasi akuntansi keuangan yang berguna bagi manajemen ditingkat operasional dan pihak lain.         \n",
    "\n",
    "Dengan menggunakan komputer,aktivitas pengolahan transaksi meliputi mengumpulkan, mengirimkan, memasukan, mengolah dan menyimpan data-data tentang kejadian atau peristiwa ekonomi yang berasal atau disebabkan oleh aktivitas/operasi organisasi sehari-hari.         \n",
    "\n",
    "Beberapa data setelah diolah menjadi informasi diperlukan oleh pemerintah dan lembaga keuangan seperti informasi akuntansi keuangan (laporan keuangan). Informasi yang lainnya mung- kin diperlukan untuk mengendalikan operasi organisasi perusahaan, pengambilan keputusan taktis, dan perencanaan strategis.         \n",
    "\n",
    "Pengolah transaksi (*program*) dalam mengolah data transaksi dapat melakukannya secara Batch, secara On-line atau gabungan kedua cara tersebut (*Hybrid*). Dalam sistem pengolahan data transaksi secara online, pengolahan data transaksi dilakukan saat transaksi terjadi. Sebagai contoh data transaksi penjualan diolah secara on-line agar diketahui total penjualan pada saat itu. Pengo- lahan data seketika (*Real time*) adalah jenis lain dari pengolahan secara on-line, dalam pengolahan data ini bukan hanya data transaksi yang masuk diolah ketika transaksi terjadi, akan tetapi juga data lainnya seperti persediaan dan piutang dilakukan updating sehingga bisa diketahui status persediaan dan piutang setiap saat.        \n",
    "\n",
    "Dalam pengolahan data secara Batch data terlebih dahulu di- kumpulkan sampai pada saat tertentu data tersebut kemudian diolah untuk menghasilkan informasi Dalam praktek, perusahaan biasanya menggunakan dua macam sistem pengolahan data tersebut (*hybrid*). Perusahaan tidak dapat hanya menggunakan satu sistem pengolahan saja dalam mengolah datanya. \n",
    " \n",
    " \n",
    "\n",
    "### 5.2 Sistem informasi akuntansi\n",
    "Sistem Informasi Akuntansi (SIA) pada dasarnya merupakan integrasi dari berbagai sistem pengolahan transaksi (SPT) atau sub SIA. Karena setiap SPT memiliki siklus pengolahan transaksi maka SIA juga dapat dikatakan sebagai integrasi dari berbagai siklus pengolahan transaksi. Dalam setiap pengolahan transaksi yang dilakukannya, SPT atau sub SIA menggunakan berbagai komponen yang dimilikinya seperti *hardware, software, brainware, procedur, database* dan jaringan komunikasi. \n",
    "\n",
    "Sesuai dengan penjelasan sebelumnya bahwa akuntansi me- rupakan sistem informasi dan data transaksi yang diolahnya merupakan data-data yang berkaitan dengan masalah ekonomi atau keuangan baik yang berasal dari dalam atau luar organisasi perusahaan, maka sistem informasi akuntansi dapat pula didefinisi- kan sebagai kumpulan (integrasi) dari sub-sub sistem/komponen baik fisik maupun nonfisik yang saling berhubungan dan bekerja sama secara harmonis untuk mengolah data transaksi yang berkai- tan dengan masalah keuangan menjadi informasi keuangan. \n",
    "\n",
    "Untuk lebih lanjut tentang Sistem Informasi Akuntansi bisa kita lihat dalam video berikut.       \n",
    "<a href=\"http://www.youtube.com/watch?feature=player_embedded&v=FBSRZ8MzV8E\n",
    "\" target=\"_blank\"><img src=\"http://img.youtube.com/vi/FBSRZ8MzV8E/0.jpg\" \n",
    "alt=\"Exeception Handling\" width=\"480\" height=\"360\" border=\"10\" /></a>\n",
    "\n",
    "https://www.youtube.com/watch?v=FBSRZ8MzV8E\n",
    "\n",
    "### Tugas IV\n",
    "\n",
    "**Soal A** [Jika Digit Terakhir NIM anda adalah bilangan ganjil atau nol(0)]\n",
    "\n",
    "Jawablah dengan menjelaskan pertanyaan - pertanyaan berikut.\n",
    "\n",
    " 1. Coba jelaskan apa itu sistem informasi akuntansi \n",
    " 2. Coba jelaskan apa itu sistem pengolahan transaksi \n",
    " 3. Coba jelaskan apa itu siklus pengolahan transaksi \n",
    " \n",
    "**Soal B**  [Jika Digit Terakhir NIM anda adalah bilangan genap]\n",
    "\n",
    "Jawablah dengan menjelaskan pertanyaan - pertanyaan berikut.\n",
    "\n",
    " 1. Coba sebutkan berbagai siklus pengolahan transaksi \n",
    " 2. Coba sebutkan aktivitas pengolahan transaksi \n",
    " 3. Jelaskan Perbedaan Antara Sistem Informasi, Sistem Informasi Manajemen dan Sistem Informasi Akuntansi\n",
    "\n",
    "### Kembali ke [Daftar Isi](./README.md)"
   ]
  },
  {
   "cell_type": "code",
   "execution_count": null,
   "metadata": {},
   "outputs": [],
   "source": []
  }
 ],
 "metadata": {
  "kernelspec": {
   "display_name": "Python 3",
   "language": "python",
   "name": "python3"
  },
  "language_info": {
   "codemirror_mode": {
    "name": "ipython",
    "version": 3
   },
   "file_extension": ".py",
   "mimetype": "text/x-python",
   "name": "python",
   "nbconvert_exporter": "python",
   "pygments_lexer": "ipython3",
   "version": "3.7.1"
  }
 },
 "nbformat": 4,
 "nbformat_minor": 2
}

