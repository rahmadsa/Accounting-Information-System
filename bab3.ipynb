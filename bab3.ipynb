{
 "cells": [
  {
   "cell_type": "markdown",
   "metadata": {},
   "source": []
  },
  {
   "cell_type": "markdown",
   "metadata": {},
   "source": [
    "## 3. Transaksi Bisnis Dan Persamaan Akuntansi\n",
    "\n",
    "### 3.1 Aktiva, Kwajiban dan Ekuitas Pemilik\n",
    "\n",
    "Sistem pengolahan transaksi memproses data yang berasal dari kejadian atau peristiwa ekonomi sebagai akibat dari operasi atau aktivitas internal perusahaan dan sebagai akibat dari aktivitas perusahaan dengan pihak luar menjadi informasi keuangan/informasi akuntansi keuangan yang berguna bagi manajemen ditingkat operasional dan pihak lain.\n",
    "\n",
    "Sumber daya yang dimiliki perusahaan disebut **Aktiva** (*asset*). Contohnya adalah kas, tanah, bangunan dan peralatan. \n",
    "Semua transaksi bisnis dapat dinyatakan dengan perubahan pada tiga unsur persamaan akuntansi tersebut.\n",
    "\n",
    "Hak kreditor memperlihatkan utang perusahaan yang disebut **Kewajiban** (liabilities). Unsur ini contohnya adalah semua huatang - hutang yang merupakan kwajiban perusahaan.\n",
    "\n",
    "Hak pemilik disebut ***Ekuitas  Pemilik*** (owners' equity). Hubungan ketiga unsur ini dapat dinyatakan dalam sebuah persahaan akuntansi.  \n",
    "\n",
    "### 3.2 Persamaan Akuntansi\n",
    "\n",
    "Semua transaksi bisnis dapat dinyatakan dengan perubahan pada ketiga unser persamaan akuntasi. Untuk lebih lanjut tentang persamman akuntansi bisa kita lihat dalam video berikut.   \n",
    "\n",
    "<a href=\"http://www.youtube.com/watch?feature=player_embedded&v=DsjfdmhSxhQ\n",
    "\" target=\"_blank\"><img src=\"http://img.youtube.com/vi/DsjfdmhSxhQ/0.jpg\" \n",
    "alt=\"Exeception Handling\" width=\"480\" height=\"360\" border=\"10\" /></a>\n",
    "\n",
    "https://www.youtube.com/watch?v=DsjfdmhSxhQ\n",
    "\n",
    "### Tugas II\n",
    "\n",
    "Buatlah persamaan akuntansi dari transaksi dalam dokumen berikut ini:[Tugas 2](./tugas2sia.pdf)\n",
    "\n",
    "### Kembali ke [Daftar Isi](./README.md)"
   ]
  },
  {
   "cell_type": "code",
   "execution_count": null,
   "metadata": {},
   "outputs": [],
   "source": []
  }
 ],
 "metadata": {
  "kernelspec": {
   "display_name": "Python 3",
   "language": "python",
   "name": "python3"
  },
  "language_info": {
   "codemirror_mode": {
    "name": "ipython",
    "version": 3
   },
   "file_extension": ".py",
   "mimetype": "text/x-python",
   "name": "python",
   "nbconvert_exporter": "python",
   "pygments_lexer": "ipython3",
   "version": "3.7.1"
  }
 },
 "nbformat": 4,
 "nbformat_minor": 2
}
