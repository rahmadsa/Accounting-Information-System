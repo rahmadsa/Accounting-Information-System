## Accounting-Information-System
### Pembuatan Model Aplikasi Sistem Informasi Akuntansi Sederhana IV
Masih dalam tahap proses membuat Pembukuan Kas dari tahap sebelumnya pada bagian ke-3 ini akan membahas cara membuat query dan report. 
### Material Move To Classroom
https://classroom.google.com/u/1/w/OTgzMDgwODYzODBa/tc/OTgzMDgwODY0Mzla
