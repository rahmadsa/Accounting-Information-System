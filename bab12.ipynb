## Accounting-Information-System
### Pembuatan Model Aplikasi Sistem Informasi Akuntansi Sederhana II
Masih dalam pembahasan cara membuat pembukuan kas sederhana dengan menggunakan Microsoft access dan saya akan melanjutkan materi dari posting bagian pertama, pada bagian ke-2 akan menjelaskan cara membuat form input transaksi single entry
### Material Move To Classroom
https://classroom.google.com/u/1/w/OTgzMDgwODYzODBa/tc/OTgzMDgwODY0NTFa
